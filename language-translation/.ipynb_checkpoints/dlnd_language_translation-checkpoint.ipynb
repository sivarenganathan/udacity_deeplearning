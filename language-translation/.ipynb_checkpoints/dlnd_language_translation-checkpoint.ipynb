{
 "cells": [
  {
   "cell_type": "markdown",
   "metadata": {},
   "source": [
    "# Language Translation\n",
    "In this project, you’re going to take a peek into the realm of neural network machine translation.  You’ll be training a sequence to sequence model on a dataset of English and French sentences that can translate new sentences from English to French.\n",
    "## Get the Data\n",
    "Since translating the whole language of English to French will take lots of time to train, we have provided you with a small portion of the English corpus."
   ]
  },
  {
   "cell_type": "code",
   "execution_count": 1,
   "metadata": {},
   "outputs": [],
   "source": [
    "\"\"\"\n",
    "DON'T MODIFY ANYTHING IN THIS CELL\n",
    "\"\"\"\n",
    "import helper\n",
    "import problem_unittests as tests\n",
    "\n",
    "source_path = 'data/small_vocab_en'\n",
    "target_path = 'data/small_vocab_fr'\n",
    "source_text = helper.load_data(source_path)\n",
    "target_text = helper.load_data(target_path)"
   ]
  },
  {
   "cell_type": "markdown",
   "metadata": {},
   "source": [
    "## Explore the Data\n",
    "Play around with view_sentence_range to view different parts of the data."
   ]
  },
  {
   "cell_type": "code",
   "execution_count": 2,
   "metadata": {},
   "outputs": [
    {
     "name": "stdout",
     "output_type": "stream",
     "text": [
      "Dataset Stats\n",
      "Roughly the number of unique words: 227\n",
      "Number of sentences: 137861\n",
      "Average number of words in a sentence: 13.225277634719028\n",
      "\n",
      "English sentences 0 to 10:\n",
      "new jersey is sometimes quiet during autumn , and it is snowy in april .\n",
      "the united states is usually chilly during july , and it is usually freezing in november .\n",
      "california is usually quiet during march , and it is usually hot in june .\n",
      "the united states is sometimes mild during june , and it is cold in september .\n",
      "your least liked fruit is the grape , but my least liked is the apple .\n",
      "his favorite fruit is the orange , but my favorite is the grape .\n",
      "paris is relaxing during december , but it is usually chilly in july .\n",
      "new jersey is busy during spring , and it is never hot in march .\n",
      "our least liked fruit is the lemon , but my least liked is the grape .\n",
      "the united states is sometimes busy during january , and it is sometimes warm in november .\n",
      "\n",
      "French sentences 0 to 10:\n",
      "new jersey est parfois calme pendant l' automne , et il est neigeux en avril .\n",
      "les états-unis est généralement froid en juillet , et il gèle habituellement en novembre .\n",
      "california est généralement calme en mars , et il est généralement chaud en juin .\n",
      "les états-unis est parfois légère en juin , et il fait froid en septembre .\n",
      "votre moins aimé fruit est le raisin , mais mon moins aimé est la pomme .\n",
      "son fruit préféré est l'orange , mais mon préféré est le raisin .\n",
      "paris est relaxant en décembre , mais il est généralement froid en juillet .\n",
      "new jersey est occupé au printemps , et il est jamais chaude en mars .\n",
      "notre fruit est moins aimé le citron , mais mon moins aimé est le raisin .\n",
      "les états-unis est parfois occupé en janvier , et il est parfois chaud en novembre .\n"
     ]
    }
   ],
   "source": [
    "view_sentence_range = (0, 10)\n",
    "\n",
    "\"\"\"\n",
    "DON'T MODIFY ANYTHING IN THIS CELL\n",
    "\"\"\"\n",
    "import numpy as np\n",
    "\n",
    "print('Dataset Stats')\n",
    "print('Roughly the number of unique words: {}'.format(len({word: None for word in source_text.split()})))\n",
    "\n",
    "sentences = source_text.split('\\n')\n",
    "word_counts = [len(sentence.split()) for sentence in sentences]\n",
    "print('Number of sentences: {}'.format(len(sentences)))\n",
    "print('Average number of words in a sentence: {}'.format(np.average(word_counts)))\n",
    "\n",
    "print()\n",
    "print('English sentences {} to {}:'.format(*view_sentence_range))\n",
    "print('\\n'.join(source_text.split('\\n')[view_sentence_range[0]:view_sentence_range[1]]))\n",
    "print()\n",
    "print('French sentences {} to {}:'.format(*view_sentence_range))\n",
    "print('\\n'.join(target_text.split('\\n')[view_sentence_range[0]:view_sentence_range[1]]))"
   ]
  },
  {
   "cell_type": "markdown",
   "metadata": {},
   "source": [
    "## Implement Preprocessing Function\n",
    "### Text to Word Ids\n",
    "As you did with other RNNs, you must turn the text into a number so the computer can understand it. In the function `text_to_ids()`, you'll turn `source_text` and `target_text` from words to ids.  However, you need to add the `<EOS>` word id at the end of `target_text`.  This will help the neural network predict when the sentence should end.\n",
    "\n",
    "You can get the `<EOS>` word id by doing:\n",
    "```python\n",
    "target_vocab_to_int['<EOS>']\n",
    "```\n",
    "You can get other word ids using `source_vocab_to_int` and `target_vocab_to_int`."
   ]
  },
  {
   "cell_type": "code",
   "execution_count": 3,
   "metadata": {},
   "outputs": [
    {
     "name": "stdout",
     "output_type": "stream",
     "text": [
      "Tests Passed\n"
     ]
    }
   ],
   "source": [
    "def text_to_ids(source_text, target_text, source_vocab_to_int, target_vocab_to_int):\n",
    "    \"\"\"\n",
    "    Convert source and target text to proper word ids\n",
    "    :param source_text: String that contains all the source text.\n",
    "    :param target_text: String that contains all the target text.\n",
    "    :param source_vocab_to_int: Dictionary to go from the source words to an id\n",
    "    :param target_vocab_to_int: Dictionary to go from the target words to an id\n",
    "    :return: A tuple of lists (source_id_text, target_id_text)\n",
    "    \"\"\"\n",
    "    # TODO: Implement Function\n",
    "          \n",
    "    source_id_text = [[source_vocab_to_int.get(letter, source_vocab_to_int['<UNK>']) for letter in line.split()] for line in source_text.split('\\n')]\n",
    "    target_id_text = [[target_vocab_to_int.get(letter, target_vocab_to_int['<UNK>']) for letter in line.split()] + [target_vocab_to_int['<EOS>']] for line in target_text.split('\\n')] \n",
    "    \n",
    "    return source_id_text, target_id_text\n",
    "\n",
    "\"\"\"\n",
    "DON'T MODIFY ANYTHING IN THIS CELL THAT IS BELOW THIS LINE\n",
    "\"\"\"\n",
    "tests.test_text_to_ids(text_to_ids)"
   ]
  },
  {
   "cell_type": "markdown",
   "metadata": {},
   "source": [
    "### Preprocess all the data and save it\n",
    "Running the code cell below will preprocess all the data and save it to file."
   ]
  },
  {
   "cell_type": "code",
   "execution_count": 4,
   "metadata": {},
   "outputs": [],
   "source": [
    "\"\"\"\n",
    "DON'T MODIFY ANYTHING IN THIS CELL\n",
    "\"\"\"\n",
    "helper.preprocess_and_save_data(source_path, target_path, text_to_ids)"
   ]
  },
  {
   "cell_type": "markdown",
   "metadata": {},
   "source": [
    "# Check Point\n",
    "This is your first checkpoint. If you ever decide to come back to this notebook or have to restart the notebook, you can start from here. The preprocessed data has been saved to disk."
   ]
  },
  {
   "cell_type": "code",
   "execution_count": 5,
   "metadata": {},
   "outputs": [],
   "source": [
    "\"\"\"\n",
    "DON'T MODIFY ANYTHING IN THIS CELL\n",
    "\"\"\"\n",
    "import numpy as np\n",
    "import helper\n",
    "import problem_unittests as tests\n",
    "\n",
    "(source_int_text, target_int_text), (source_vocab_to_int, target_vocab_to_int), _ = helper.load_preprocess()"
   ]
  },
  {
   "cell_type": "markdown",
   "metadata": {},
   "source": [
    "### Check the Version of TensorFlow and Access to GPU\n",
    "This will check to make sure you have the correct version of TensorFlow and access to a GPU"
   ]
  },
  {
   "cell_type": "code",
   "execution_count": 6,
   "metadata": {},
   "outputs": [
    {
     "name": "stdout",
     "output_type": "stream",
     "text": [
      "TensorFlow Version: 1.1.0\n",
      "Default GPU Device: /gpu:0\n"
     ]
    }
   ],
   "source": [
    "\"\"\"\n",
    "DON'T MODIFY ANYTHING IN THIS CELL\n",
    "\"\"\"\n",
    "from distutils.version import LooseVersion\n",
    "import warnings\n",
    "import tensorflow as tf\n",
    "from tensorflow.python.layers.core import Dense\n",
    "\n",
    "# Check TensorFlow Version\n",
    "assert LooseVersion(tf.__version__) >= LooseVersion('1.1'), 'Please use TensorFlow version 1.1 or newer'\n",
    "print('TensorFlow Version: {}'.format(tf.__version__))\n",
    "\n",
    "# Check for a GPU\n",
    "if not tf.test.gpu_device_name():\n",
    "    warnings.warn('No GPU found. Please use a GPU to train your neural network.')\n",
    "else:\n",
    "    print('Default GPU Device: {}'.format(tf.test.gpu_device_name()))"
   ]
  },
  {
   "cell_type": "markdown",
   "metadata": {},
   "source": [
    "## Build the Neural Network\n",
    "You'll build the components necessary to build a Sequence-to-Sequence model by implementing the following functions below:\n",
    "- `model_inputs`\n",
    "- `process_decoder_input`\n",
    "- `encoding_layer`\n",
    "- `decoding_layer_train`\n",
    "- `decoding_layer_infer`\n",
    "- `decoding_layer`\n",
    "- `seq2seq_model`\n",
    "\n",
    "### Input\n",
    "Implement the `model_inputs()` function to create TF Placeholders for the Neural Network. It should create the following placeholders:\n",
    "\n",
    "- Input text placeholder named \"input\" using the TF Placeholder name parameter with rank 2.\n",
    "- Targets placeholder with rank 2.\n",
    "- Learning rate placeholder with rank 0.\n",
    "- Keep probability placeholder named \"keep_prob\" using the TF Placeholder name parameter with rank 0.\n",
    "- Target sequence length placeholder named \"target_sequence_length\" with rank 1\n",
    "- Max target sequence length tensor named \"max_target_len\" getting its value from applying tf.reduce_max on the target_sequence_length placeholder. Rank 0.\n",
    "- Source sequence length placeholder named \"source_sequence_length\" with rank 1\n",
    "\n",
    "Return the placeholders in the following the tuple (input, targets, learning rate, keep probability, target sequence length, max target sequence length, source sequence length)"
   ]
  },
  {
   "cell_type": "code",
   "execution_count": 7,
   "metadata": {},
   "outputs": [
    {
     "name": "stdout",
     "output_type": "stream",
     "text": [
      "Tests Passed\n"
     ]
    }
   ],
   "source": [
    "def model_inputs():\n",
    "    \"\"\"\n",
    "    Create TF Placeholders for input, targets, learning rate, and lengths of source and target sequences.\n",
    "    :return: Tuple (input, targets, learning rate, keep probability, target sequence length,\n",
    "    max target sequence length, source sequence length)\n",
    "    \"\"\"\n",
    "    # TODO: Implement Function\n",
    "    input_data = tf.placeholder(tf.int32,[None,None],name=\"input\")\n",
    "    target_data = tf.placeholder(tf.int32,[None,None],name=\"targets\")\n",
    "    learning_rate = tf.placeholder(tf.float32,None, name=\"lr\")\n",
    "    keep_probability = tf.placeholder(tf.float32,None,name=\"keep_prob\")\n",
    "    target_sequence_length = tf.placeholder(tf.int32, (None,), name='target_sequence_length')\n",
    "    max_target_sequence_length = tf.reduce_max(target_sequence_length, name='max_target_len')\n",
    "    source_sequence_length = tf.placeholder(tf.int32, (None,), name='source_sequence_length')\n",
    "    \n",
    "    return input_data, target_data, learning_rate, keep_probability, target_sequence_length, max_target_sequence_length, source_sequence_length\n",
    "\n",
    "\n",
    "\"\"\"\n",
    "DON'T MODIFY ANYTHING IN THIS CELL THAT IS BELOW THIS LINE\n",
    "\"\"\"\n",
    "tests.test_model_inputs(model_inputs)"
   ]
  },
  {
   "cell_type": "markdown",
   "metadata": {},
   "source": [
    "### Process Decoder Input\n",
    "Implement `process_decoder_input` by removing the last word id from each batch in `target_data` and concat the GO ID to the begining of each batch."
   ]
  },
  {
   "cell_type": "code",
   "execution_count": 8,
   "metadata": {},
   "outputs": [
    {
     "name": "stdout",
     "output_type": "stream",
     "text": [
      "Tests Passed\n"
     ]
    }
   ],
   "source": [
    "def process_decoder_input(target_data, target_vocab_to_int, batch_size):\n",
    "    \"\"\"\n",
    "    Preprocess target data for encoding\n",
    "    :param target_data: Target Placehoder\n",
    "    :param target_vocab_to_int: Dictionary to go from the target words to an id\n",
    "    :param batch_size: Batch Size\n",
    "    :return: Preprocessed target data\n",
    "    \"\"\"\n",
    "    # TODO: Implement Function\n",
    "    wo_last_word = tf.strided_slice(target_data, [0,0], [batch_size, -1], [1,1])\n",
    "    go = tf.fill([batch_size, 1], target_vocab_to_int['<GO>'])\n",
    "    t_input = tf.concat([go, wo_last_word], 1)\n",
    "    return t_input    \n",
    "\n",
    "\"\"\"\n",
    "DON'T MODIFY ANYTHING IN THIS CELL THAT IS BELOW THIS LINE\n",
    "\"\"\"\n",
    "tests.test_process_encoding_input(process_decoder_input)"
   ]
  },
  {
   "cell_type": "markdown",
   "metadata": {},
   "source": [
    "### Encoding\n",
    "Implement `encoding_layer()` to create a Encoder RNN layer:\n",
    " * Embed the encoder input using [`tf.contrib.layers.embed_sequence`](https://www.tensorflow.org/api_docs/python/tf/contrib/layers/embed_sequence)\n",
    " * Construct a [stacked](https://github.com/tensorflow/tensorflow/blob/6947f65a374ebf29e74bb71e36fd82760056d82c/tensorflow/docs_src/tutorials/recurrent.md#stacking-multiple-lstms) [`tf.contrib.rnn.LSTMCell`](https://www.tensorflow.org/api_docs/python/tf/contrib/rnn/LSTMCell) wrapped in a [`tf.contrib.rnn.DropoutWrapper`](https://www.tensorflow.org/api_docs/python/tf/contrib/rnn/DropoutWrapper)\n",
    " * Pass cell and embedded input to [`tf.nn.dynamic_rnn()`](https://www.tensorflow.org/api_docs/python/tf/nn/dynamic_rnn)"
   ]
  },
  {
   "cell_type": "code",
   "execution_count": 9,
   "metadata": {
    "scrolled": false
   },
   "outputs": [
    {
     "name": "stdout",
     "output_type": "stream",
     "text": [
      "Tests Passed\n"
     ]
    }
   ],
   "source": [
    "from imp import reload\n",
    "reload(tests)\n",
    "\n",
    "def make_cell(rnn_size, keep_prob):\n",
    "    enc_cell = tf.contrib.rnn.LSTMCell(rnn_size,\n",
    "                                       initializer=tf.random_uniform_initializer(-0.1, 0.1, seed=2))\n",
    "    drop = tf.contrib.rnn.DropoutWrapper(enc_cell,keep_prob)\n",
    "    \n",
    "    return drop\n",
    "\n",
    "def encoding_layer(rnn_inputs, rnn_size, num_layers, keep_prob, \n",
    "                   source_sequence_length, source_vocab_size, \n",
    "                   encoding_embedding_size):\n",
    "    \"\"\"\n",
    "    Create encoding layer\n",
    "    :param rnn_inputs: Inputs for the RNN\n",
    "    :param rnn_size: RNN Size\n",
    "    :param num_layers: Number of layers\n",
    "    :param keep_prob: Dropout keep probability\n",
    "    :param source_sequence_length: a list of the lengths of each sequence in the batch\n",
    "    :param source_vocab_size: vocabulary size of source data\n",
    "    :param encoding_embedding_size: embedding size of source data\n",
    "    :return: tuple (RNN output, RNN state)\n",
    "    \"\"\"\n",
    "    # TODO: Implement Function\n",
    "    #cell   = tf.contrib.rnn.BasicLSTMCell(rnn_size)\n",
    "    #m_cell = tf.contrib.rnn.MultiRNNCell([cell] * num_layers)\n",
    "    #d_cell = tf.contrib.rnn.DropoutWrapper(m_cell, keep_prob)\n",
    "    #_, encoding_state = tf.nn.dynamic_rnn(d_cell, rnn_inputs, dtype=tf.float32)\n",
    "    #return encoding_state\n",
    "    enc_embed_input = tf.contrib.layers.embed_sequence(rnn_inputs, source_vocab_size, encoding_embedding_size)\n",
    "    enc_cell = tf.contrib.rnn.MultiRNNCell([make_cell(rnn_size, keep_prob) for _ in range(num_layers)])\n",
    "    enc_output, enc_state = tf.nn.dynamic_rnn(enc_cell, enc_embed_input, sequence_length=source_sequence_length, dtype=tf.float32)\n",
    "    return enc_output, enc_state\n",
    "\n",
    "\"\"\"\n",
    "DON'T MODIFY ANYTHING IN THIS CELL THAT IS BELOW THIS LINE\n",
    "\"\"\"\n",
    "tests.test_encoding_layer(encoding_layer)"
   ]
  },
  {
   "cell_type": "markdown",
   "metadata": {},
   "source": [
    "### Decoding - Training\n",
    "Create a training decoding layer:\n",
    "* Create a [`tf.contrib.seq2seq.TrainingHelper`](https://www.tensorflow.org/api_docs/python/tf/contrib/seq2seq/TrainingHelper) \n",
    "* Create a [`tf.contrib.seq2seq.BasicDecoder`](https://www.tensorflow.org/api_docs/python/tf/contrib/seq2seq/BasicDecoder)\n",
    "* Obtain the decoder outputs from [`tf.contrib.seq2seq.dynamic_decode`](https://www.tensorflow.org/api_docs/python/tf/contrib/seq2seq/dynamic_decode)"
   ]
  },
  {
   "cell_type": "code",
   "execution_count": 10,
   "metadata": {},
   "outputs": [
    {
     "name": "stdout",
     "output_type": "stream",
     "text": [
      "Tests Passed\n"
     ]
    }
   ],
   "source": [
    "\n",
    "def decoding_layer_train(encoder_state, dec_cell, dec_embed_input, \n",
    "                         target_sequence_length, max_summary_length, \n",
    "                         output_layer, keep_prob):\n",
    "    \"\"\"\n",
    "    Create a decoding layer for training\n",
    "    :param encoder_state: Encoder State\n",
    "    :param dec_cell: Decoder RNN Cell\n",
    "    :param dec_embed_input: Decoder embedded input\n",
    "    :param target_sequence_length: The lengths of each sequence in the target batch\n",
    "    :param max_summary_length: The length of the longest sequence in the batch\n",
    "    :param output_layer: Function to apply the output layer\n",
    "    :param keep_prob: Dropout keep probability\n",
    "    :return: BasicDecoderOutput containing training logits and sample_id\n",
    "    \"\"\"\n",
    "    # TODO: Implement Function\n",
    "    training_helper = tf.contrib.seq2seq.TrainingHelper(inputs=dec_embed_input,\n",
    "                                                        sequence_length=target_sequence_length,\n",
    "                                                        time_major=False)\n",
    "\n",
    "\n",
    "    # Basic decoder\n",
    "    training_decoder = tf.contrib.seq2seq.BasicDecoder(dec_cell,\n",
    "                                                       training_helper,\n",
    "                                                       encoder_state,\n",
    "                                                       output_layer) \n",
    "\n",
    "    # Perform dynamic decoding using the decoder\n",
    "    training_decoder_output, final_state = tf.contrib.seq2seq.dynamic_decode(training_decoder,\n",
    "                                                                       impute_finished=True,\n",
    "                                                                       maximum_iterations=max_summary_length)\n",
    "    return training_decoder_output\n",
    "\n",
    "\n",
    "\n",
    "\"\"\"\n",
    "DON'T MODIFY ANYTHING IN THIS CELL THAT IS BELOW THIS LINE\n",
    "\"\"\"\n",
    "tests.test_decoding_layer_train(decoding_layer_train)"
   ]
  },
  {
   "cell_type": "markdown",
   "metadata": {},
   "source": [
    "### Decoding - Inference\n",
    "Create inference decoder:\n",
    "* Create a [`tf.contrib.seq2seq.GreedyEmbeddingHelper`](https://www.tensorflow.org/api_docs/python/tf/contrib/seq2seq/GreedyEmbeddingHelper)\n",
    "* Create a [`tf.contrib.seq2seq.BasicDecoder`](https://www.tensorflow.org/api_docs/python/tf/contrib/seq2seq/BasicDecoder)\n",
    "* Obtain the decoder outputs from [`tf.contrib.seq2seq.dynamic_decode`](https://www.tensorflow.org/api_docs/python/tf/contrib/seq2seq/dynamic_decode)"
   ]
  },
  {
   "cell_type": "code",
   "execution_count": 11,
   "metadata": {
    "scrolled": true
   },
   "outputs": [
    {
     "name": "stdout",
     "output_type": "stream",
     "text": [
      "Tests Passed\n"
     ]
    }
   ],
   "source": [
    "def decoding_layer_infer(encoder_state, dec_cell, dec_embeddings, start_of_sequence_id,\n",
    "                         end_of_sequence_id, max_target_sequence_length,\n",
    "                         vocab_size, output_layer, batch_size, keep_prob):\n",
    "    \"\"\"\n",
    "    Create a decoding layer for inference\n",
    "    :param encoder_state: Encoder state\n",
    "    :param dec_cell: Decoder RNN Cell\n",
    "    :param dec_embeddings: Decoder embeddings\n",
    "    :param start_of_sequence_id: GO ID\n",
    "    :param end_of_sequence_id: EOS Id\n",
    "    :param max_target_sequence_length: Maximum length of target sequences\n",
    "    :param vocab_size: Size of decoder/target vocabulary\n",
    "    :param decoding_scope: TenorFlow Variable Scope for decoding\n",
    "    :param output_layer: Function to apply the output layer\n",
    "    :param batch_size: Batch size\n",
    "    :param keep_prob: Dropout keep probability\n",
    "    :return: BasicDecoderOutput containing inference logits and sample_id\n",
    "    \"\"\"\n",
    "    # TODO: Implement Function\n",
    "    helper = tf.contrib.seq2seq.GreedyEmbeddingHelper(dec_embeddings,tf.tile(tf.constant([start_of_sequence_id], dtype=tf.int32), [batch_size], name='start_tokens'),end_of_sequence_id)\n",
    "    decoder = tf.contrib.seq2seq.BasicDecoder(dec_cell,helper,encoder_state,output_layer)\n",
    "    decoder_output, final_state = tf.contrib.seq2seq.dynamic_decode(decoder,maximum_iterations=max_target_sequence_length)\n",
    "    \n",
    "    return decoder_output\n",
    "\n",
    "\n",
    "\n",
    "\"\"\"\n",
    "DON'T MODIFY ANYTHING IN THIS CELL THAT IS BELOW THIS LINE\n",
    "\"\"\"\n",
    "tests.test_decoding_layer_infer(decoding_layer_infer)"
   ]
  },
  {
   "cell_type": "markdown",
   "metadata": {},
   "source": [
    "### Build the Decoding Layer\n",
    "Implement `decoding_layer()` to create a Decoder RNN layer.\n",
    "\n",
    "* Embed the target sequences\n",
    "* Construct the decoder LSTM cell (just like you constructed the encoder cell above)\n",
    "* Create an output layer to map the outputs of the decoder to the elements of our vocabulary\n",
    "* Use the your `decoding_layer_train(encoder_state, dec_cell, dec_embed_input, target_sequence_length, max_target_sequence_length, output_layer, keep_prob)` function to get the training logits.\n",
    "* Use your `decoding_layer_infer(encoder_state, dec_cell, dec_embeddings, start_of_sequence_id, end_of_sequence_id, max_target_sequence_length, vocab_size, output_layer, batch_size, keep_prob)` function to get the inference logits.\n",
    "\n",
    "Note: You'll need to use [tf.variable_scope](https://www.tensorflow.org/api_docs/python/tf/variable_scope) to share variables between training and inference."
   ]
  },
  {
   "cell_type": "code",
   "execution_count": 14,
   "metadata": {},
   "outputs": [
    {
     "name": "stdout",
     "output_type": "stream",
     "text": [
      "Tests Passed\n"
     ]
    }
   ],
   "source": [
    "def decoding_layer(dec_input, encoder_state,\n",
    "                   target_sequence_length, max_target_sequence_length,\n",
    "                   rnn_size,\n",
    "                   num_layers, target_vocab_to_int, target_vocab_size,\n",
    "                   batch_size, keep_prob, decoding_embedding_size):\n",
    "    \"\"\"\n",
    "    Create decoding layer\n",
    "    :param dec_input: Decoder input\n",
    "    :param encoder_state: Encoder state\n",
    "    :param target_sequence_length: The lengths of each sequence in the target batch\n",
    "    :param max_target_sequence_length: Maximum length of target sequences\n",
    "    :param rnn_size: RNN Size\n",
    "    :param num_layers: Number of layers\n",
    "    :param target_vocab_to_int: Dictionary to go from the target words to an id\n",
    "    :param target_vocab_size: Size of target vocabulary\n",
    "    :param batch_size: The size of the batch\n",
    "    :param keep_prob: Dropout keep probability\n",
    "    :param decoding_embedding_size: Decoding embedding size\n",
    "    :return: Tuple of (Training BasicDecoderOutput, Inference BasicDecoderOutput)\n",
    "    \"\"\"\n",
    "    # TODO: Implement Function\n",
    "    dec_embeddings = tf.Variable(tf.random_uniform([target_vocab_size, decoding_embedding_size]))\n",
    "    dec_embed_input = tf.nn.embedding_lookup(dec_embeddings, dec_input)\n",
    "    \n",
    "    def make_cell(rnn_size,keep_prob):\n",
    "        dec_cell = tf.contrib.rnn.LSTMCell(rnn_size,\n",
    "                                       initializer=tf.random_uniform_initializer(-0.1, 0.1, seed=2))\n",
    "        drop = tf.contrib.rnn.DropoutWrapper(dec_cell, output_keep_prob=keep_prob)\n",
    "        return drop\n",
    "\n",
    "    dec_cell = tf.contrib.rnn.MultiRNNCell([make_cell(rnn_size,keep_prob) for _ in range(num_layers)])\n",
    "    \n",
    "    output_layer = Dense(target_vocab_size,\n",
    "                         kernel_initializer = tf.truncated_normal_initializer(mean = 0.0, stddev=0.1))\n",
    "    \n",
    "    with tf.variable_scope(\"decode\") as decoding_scope:\n",
    "        training_decoder_output = decoding_layer_train(encoder_state,dec_cell,dec_embed_input,target_sequence_length,\n",
    "                                                       max_target_sequence_length,output_layer,keep_prob)\n",
    "        decoding_scope.reuse_variables()\n",
    "        start_of_sequence_id = target_vocab_to_int['<GO>']\n",
    "        end_of_sequence_id = target_vocab_to_int['<EOS>']\n",
    "        inference_decoder_output = decoding_layer_infer(encoder_state, dec_cell, dec_embeddings, start_of_sequence_id,\n",
    "                     end_of_sequence_id, max_target_sequence_length,\n",
    "                     target_vocab_size, output_layer, batch_size, keep_prob)        \n",
    "\n",
    "    \n",
    "    return training_decoder_output, inference_decoder_output\n",
    "        \n",
    "\n",
    "\n",
    "\n",
    "\"\"\"\n",
    "DON'T MODIFY ANYTHING IN THIS CELL THAT IS BELOW THIS LINE\n",
    "\"\"\"\n",
    "tests.test_decoding_layer(decoding_layer)"
   ]
  },
  {
   "cell_type": "markdown",
   "metadata": {},
   "source": [
    "### Build the Neural Network\n",
    "Apply the functions you implemented above to:\n",
    "\n",
    "- Encode the input using your `encoding_layer(rnn_inputs, rnn_size, num_layers, keep_prob,  source_sequence_length, source_vocab_size, encoding_embedding_size)`.\n",
    "- Process target data using your `process_decoder_input(target_data, target_vocab_to_int, batch_size)` function.\n",
    "- Decode the encoded input using your `decoding_layer(dec_input, enc_state, target_sequence_length, max_target_sentence_length, rnn_size, num_layers, target_vocab_to_int, target_vocab_size, batch_size, keep_prob, dec_embedding_size)` function."
   ]
  },
  {
   "cell_type": "code",
   "execution_count": 15,
   "metadata": {},
   "outputs": [
    {
     "name": "stdout",
     "output_type": "stream",
     "text": [
      "Tests Passed\n"
     ]
    }
   ],
   "source": [
    "def seq2seq_model(input_data, target_data, keep_prob, batch_size,\n",
    "                  source_sequence_length, target_sequence_length,\n",
    "                  max_target_sentence_length,\n",
    "                  source_vocab_size, target_vocab_size,\n",
    "                  enc_embedding_size, dec_embedding_size,\n",
    "                  rnn_size, num_layers, target_vocab_to_int):\n",
    "    \"\"\"\n",
    "    Build the Sequence-to-Sequence part of the neural network\n",
    "    :param input_data: Input placeholder\n",
    "    :param target_data: Target placeholder\n",
    "    :param keep_prob: Dropout keep probability placeholder\n",
    "    :param batch_size: Batch Size\n",
    "    :param source_sequence_length: Sequence Lengths of source sequences in the batch\n",
    "    :param target_sequence_length: Sequence Lengths of target sequences in the batch\n",
    "    :param source_vocab_size: Source vocabulary size\n",
    "    :param target_vocab_size: Target vocabulary size\n",
    "    :param enc_embedding_size: Decoder embedding size\n",
    "    :param dec_embedding_size: Encoder embedding size\n",
    "    :param rnn_size: RNN Size\n",
    "    :param num_layers: Number of layers\n",
    "    :param target_vocab_to_int: Dictionary to go from the target words to an id\n",
    "    :return: Tuple of (Training BasicDecoderOutput, Inference BasicDecoderOutput)\n",
    "    \"\"\"\n",
    "    # TODO: Implement Function\n",
    "    _, enc_state = encoding_layer(input_data, \n",
    "                                  rnn_size, \n",
    "                                  num_layers, \n",
    "                                  keep_prob,\n",
    "                                  source_sequence_length,\n",
    "                                  source_vocab_size,enc_embedding_size)\n",
    "    dec_input = process_decoder_input(target_data, target_vocab_to_int, batch_size)\n",
    "    \n",
    "    training_decoder_output, inference_decoder_output = decoding_layer(dec_input,enc_state,target_sequence_length,max_target_sentence_length,rnn_size,\n",
    "                                                                       num_layers,target_vocab_to_int,target_vocab_size,batch_size,keep_prob,dec_embedding_size) \n",
    "    \n",
    "    return training_decoder_output, inference_decoder_output\n",
    "\n",
    "\n",
    "\"\"\"\n",
    "DON'T MODIFY ANYTHING IN THIS CELL THAT IS BELOW THIS LINE\n",
    "\"\"\"\n",
    "tests.test_seq2seq_model(seq2seq_model)"
   ]
  },
  {
   "cell_type": "markdown",
   "metadata": {},
   "source": [
    "## Neural Network Training\n",
    "### Hyperparameters\n",
    "Tune the following parameters:\n",
    "\n",
    "- Set `epochs` to the number of epochs.\n",
    "- Set `batch_size` to the batch size.\n",
    "- Set `rnn_size` to the size of the RNNs.\n",
    "- Set `num_layers` to the number of layers.\n",
    "- Set `encoding_embedding_size` to the size of the embedding for the encoder.\n",
    "- Set `decoding_embedding_size` to the size of the embedding for the decoder.\n",
    "- Set `learning_rate` to the learning rate.\n",
    "- Set `keep_probability` to the Dropout keep probability\n",
    "- Set `display_step` to state how many steps between each debug output statement"
   ]
  },
  {
   "cell_type": "code",
   "execution_count": 24,
   "metadata": {},
   "outputs": [],
   "source": [
    "# Number of Epochs\n",
    "epochs = 4\n",
    "# Batch Size\n",
    "batch_size = 256\n",
    "# RNN Size\n",
    "rnn_size = 256\n",
    "# Number of Layers\n",
    "num_layers = 2\n",
    "# Embedding Size\n",
    "encoding_embedding_size = 128\n",
    "decoding_embedding_size = 128\n",
    "# Learning Rate\n",
    "learning_rate = 0.001\n",
    "# Dropout Keep Probability\n",
    "keep_probability = 0.75\n",
    "display_step = 10"
   ]
  },
  {
   "cell_type": "markdown",
   "metadata": {},
   "source": [
    "### Build the Graph\n",
    "Build the graph using the neural network you implemented."
   ]
  },
  {
   "cell_type": "code",
   "execution_count": 25,
   "metadata": {},
   "outputs": [],
   "source": [
    "\"\"\"\n",
    "DON'T MODIFY ANYTHING IN THIS CELL\n",
    "\"\"\"\n",
    "save_path = 'checkpoints/dev'\n",
    "(source_int_text, target_int_text), (source_vocab_to_int, target_vocab_to_int), _ = helper.load_preprocess()\n",
    "max_target_sentence_length = max([len(sentence) for sentence in source_int_text])\n",
    "\n",
    "train_graph = tf.Graph()\n",
    "with train_graph.as_default():\n",
    "    input_data, targets, lr, keep_prob, target_sequence_length, max_target_sequence_length, source_sequence_length = model_inputs()\n",
    "\n",
    "    #sequence_length = tf.placeholder_with_default(max_target_sentence_length, None, name='sequence_length')\n",
    "    input_shape = tf.shape(input_data)\n",
    "\n",
    "    train_logits, inference_logits = seq2seq_model(tf.reverse(input_data, [-1]),\n",
    "                                                   targets,\n",
    "                                                   keep_prob,\n",
    "                                                   batch_size,\n",
    "                                                   source_sequence_length,\n",
    "                                                   target_sequence_length,\n",
    "                                                   max_target_sequence_length,\n",
    "                                                   len(source_vocab_to_int),\n",
    "                                                   len(target_vocab_to_int),\n",
    "                                                   encoding_embedding_size,\n",
    "                                                   decoding_embedding_size,\n",
    "                                                   rnn_size,\n",
    "                                                   num_layers,\n",
    "                                                   target_vocab_to_int)\n",
    "\n",
    "\n",
    "    training_logits = tf.identity(train_logits.rnn_output, name='logits')\n",
    "    inference_logits = tf.identity(inference_logits.sample_id, name='predictions')\n",
    "\n",
    "    masks = tf.sequence_mask(target_sequence_length, max_target_sequence_length, dtype=tf.float32, name='masks')\n",
    "\n",
    "    with tf.name_scope(\"optimization\"):\n",
    "        # Loss function\n",
    "        cost = tf.contrib.seq2seq.sequence_loss(\n",
    "            training_logits,\n",
    "            targets,\n",
    "            masks)\n",
    "\n",
    "        # Optimizer\n",
    "        optimizer = tf.train.AdamOptimizer(lr)\n",
    "\n",
    "        # Gradient Clipping\n",
    "        gradients = optimizer.compute_gradients(cost)\n",
    "        capped_gradients = [(tf.clip_by_value(grad, -1., 1.), var) for grad, var in gradients if grad is not None]\n",
    "        train_op = optimizer.apply_gradients(capped_gradients)\n"
   ]
  },
  {
   "cell_type": "markdown",
   "metadata": {},
   "source": [
    "Batch and pad the source and target sequences"
   ]
  },
  {
   "cell_type": "code",
   "execution_count": 26,
   "metadata": {},
   "outputs": [],
   "source": [
    "\"\"\"\n",
    "DON'T MODIFY ANYTHING IN THIS CELL\n",
    "\"\"\"\n",
    "def pad_sentence_batch(sentence_batch, pad_int):\n",
    "    \"\"\"Pad sentences with <PAD> so that each sentence of a batch has the same length\"\"\"\n",
    "    max_sentence = max([len(sentence) for sentence in sentence_batch])\n",
    "    return [sentence + [pad_int] * (max_sentence - len(sentence)) for sentence in sentence_batch]\n",
    "\n",
    "\n",
    "def get_batches(sources, targets, batch_size, source_pad_int, target_pad_int):\n",
    "    \"\"\"Batch targets, sources, and the lengths of their sentences together\"\"\"\n",
    "    for batch_i in range(0, len(sources)//batch_size):\n",
    "        start_i = batch_i * batch_size\n",
    "\n",
    "        # Slice the right amount for the batch\n",
    "        sources_batch = sources[start_i:start_i + batch_size]\n",
    "        targets_batch = targets[start_i:start_i + batch_size]\n",
    "\n",
    "        # Pad\n",
    "        pad_sources_batch = np.array(pad_sentence_batch(sources_batch, source_pad_int))\n",
    "        pad_targets_batch = np.array(pad_sentence_batch(targets_batch, target_pad_int))\n",
    "\n",
    "        # Need the lengths for the _lengths parameters\n",
    "        pad_targets_lengths = []\n",
    "        for target in pad_targets_batch:\n",
    "            pad_targets_lengths.append(len(target))\n",
    "\n",
    "        pad_source_lengths = []\n",
    "        for source in pad_sources_batch:\n",
    "            pad_source_lengths.append(len(source))\n",
    "\n",
    "        yield pad_sources_batch, pad_targets_batch, pad_source_lengths, pad_targets_lengths\n"
   ]
  },
  {
   "cell_type": "markdown",
   "metadata": {},
   "source": [
    "### Train\n",
    "Train the neural network on the preprocessed data. If you have a hard time getting a good loss, check the forms to see if anyone is having the same problem."
   ]
  },
  {
   "cell_type": "code",
   "execution_count": 27,
   "metadata": {
    "scrolled": true
   },
   "outputs": [
    {
     "name": "stdout",
     "output_type": "stream",
     "text": [
      "Epoch   0 Batch   10/538 - Train Accuracy: 0.2664, Validation Accuracy: 0.3540, Loss: 3.7228\n",
      "Epoch   0 Batch   20/538 - Train Accuracy: 0.3984, Validation Accuracy: 0.4400, Loss: 2.8654\n",
      "Epoch   0 Batch   30/538 - Train Accuracy: 0.3703, Validation Accuracy: 0.4276, Loss: 2.7474\n",
      "Epoch   0 Batch   40/538 - Train Accuracy: 0.4931, Validation Accuracy: 0.4895, Loss: 2.3022\n",
      "Epoch   0 Batch   50/538 - Train Accuracy: 0.4414, Validation Accuracy: 0.4975, Loss: 2.3224\n",
      "Epoch   0 Batch   60/538 - Train Accuracy: 0.4588, Validation Accuracy: 0.5060, Loss: 2.1604\n",
      "Epoch   0 Batch   70/538 - Train Accuracy: 0.4968, Validation Accuracy: 0.5197, Loss: 1.9092\n",
      "Epoch   0 Batch   80/538 - Train Accuracy: 0.4598, Validation Accuracy: 0.5185, Loss: 1.9315\n",
      "Epoch   0 Batch   90/538 - Train Accuracy: 0.4976, Validation Accuracy: 0.5263, Loss: 1.6970\n",
      "Epoch   0 Batch  100/538 - Train Accuracy: 0.4840, Validation Accuracy: 0.5364, Loss: 1.6149\n",
      "Epoch   0 Batch  110/538 - Train Accuracy: 0.4746, Validation Accuracy: 0.5273, Loss: 1.6189\n",
      "Epoch   0 Batch  120/538 - Train Accuracy: 0.4611, Validation Accuracy: 0.5146, Loss: 1.4990\n",
      "Epoch   0 Batch  130/538 - Train Accuracy: 0.4905, Validation Accuracy: 0.5250, Loss: 1.3860\n",
      "Epoch   0 Batch  140/538 - Train Accuracy: 0.4750, Validation Accuracy: 0.5444, Loss: 1.4295\n",
      "Epoch   0 Batch  150/538 - Train Accuracy: 0.5100, Validation Accuracy: 0.5401, Loss: 1.3091\n",
      "Epoch   0 Batch  160/538 - Train Accuracy: 0.4998, Validation Accuracy: 0.5369, Loss: 1.2010\n",
      "Epoch   0 Batch  170/538 - Train Accuracy: 0.5121, Validation Accuracy: 0.5357, Loss: 1.1694\n",
      "Epoch   0 Batch  180/538 - Train Accuracy: 0.5035, Validation Accuracy: 0.5240, Loss: 1.1431\n",
      "Epoch   0 Batch  190/538 - Train Accuracy: 0.5061, Validation Accuracy: 0.5398, Loss: 1.1348\n",
      "Epoch   0 Batch  200/538 - Train Accuracy: 0.5199, Validation Accuracy: 0.5412, Loss: 1.0799\n",
      "Epoch   0 Batch  210/538 - Train Accuracy: 0.5056, Validation Accuracy: 0.5346, Loss: 1.0184\n",
      "Epoch   0 Batch  220/538 - Train Accuracy: 0.5177, Validation Accuracy: 0.5689, Loss: 0.9842\n",
      "Epoch   0 Batch  230/538 - Train Accuracy: 0.5150, Validation Accuracy: 0.5451, Loss: 0.9757\n",
      "Epoch   0 Batch  240/538 - Train Accuracy: 0.5330, Validation Accuracy: 0.5721, Loss: 0.9586\n",
      "Epoch   0 Batch  250/538 - Train Accuracy: 0.5668, Validation Accuracy: 0.5739, Loss: 0.8879\n",
      "Epoch   0 Batch  260/538 - Train Accuracy: 0.5785, Validation Accuracy: 0.5854, Loss: 0.8829\n",
      "Epoch   0 Batch  270/538 - Train Accuracy: 0.5635, Validation Accuracy: 0.5815, Loss: 0.8553\n",
      "Epoch   0 Batch  280/538 - Train Accuracy: 0.6185, Validation Accuracy: 0.5993, Loss: 0.8006\n",
      "Epoch   0 Batch  290/538 - Train Accuracy: 0.5648, Validation Accuracy: 0.5993, Loss: 0.8200\n",
      "Epoch   0 Batch  300/538 - Train Accuracy: 0.6177, Validation Accuracy: 0.5943, Loss: 0.7691\n",
      "Epoch   0 Batch  310/538 - Train Accuracy: 0.6002, Validation Accuracy: 0.6106, Loss: 0.7636\n",
      "Epoch   0 Batch  320/538 - Train Accuracy: 0.6151, Validation Accuracy: 0.6099, Loss: 0.7553\n",
      "Epoch   0 Batch  330/538 - Train Accuracy: 0.6174, Validation Accuracy: 0.6199, Loss: 0.7139\n",
      "Epoch   0 Batch  340/538 - Train Accuracy: 0.5836, Validation Accuracy: 0.6255, Loss: 0.7504\n",
      "Epoch   0 Batch  350/538 - Train Accuracy: 0.6239, Validation Accuracy: 0.6252, Loss: 0.7236\n",
      "Epoch   0 Batch  360/538 - Train Accuracy: 0.6027, Validation Accuracy: 0.6170, Loss: 0.7193\n",
      "Epoch   0 Batch  370/538 - Train Accuracy: 0.6002, Validation Accuracy: 0.6218, Loss: 0.7069\n",
      "Epoch   0 Batch  380/538 - Train Accuracy: 0.5939, Validation Accuracy: 0.6301, Loss: 0.6714\n",
      "Epoch   0 Batch  390/538 - Train Accuracy: 0.6475, Validation Accuracy: 0.6422, Loss: 0.6298\n",
      "Epoch   0 Batch  400/538 - Train Accuracy: 0.6153, Validation Accuracy: 0.6380, Loss: 0.6351\n",
      "Epoch   0 Batch  410/538 - Train Accuracy: 0.6145, Validation Accuracy: 0.6431, Loss: 0.6422\n",
      "Epoch   0 Batch  420/538 - Train Accuracy: 0.6312, Validation Accuracy: 0.6555, Loss: 0.6103\n",
      "Epoch   0 Batch  430/538 - Train Accuracy: 0.6410, Validation Accuracy: 0.6575, Loss: 0.6166\n",
      "Epoch   0 Batch  440/538 - Train Accuracy: 0.6184, Validation Accuracy: 0.6470, Loss: 0.6241\n",
      "Epoch   0 Batch  450/538 - Train Accuracy: 0.6553, Validation Accuracy: 0.6635, Loss: 0.6030\n",
      "Epoch   0 Batch  460/538 - Train Accuracy: 0.6243, Validation Accuracy: 0.6653, Loss: 0.5556\n",
      "Epoch   0 Batch  470/538 - Train Accuracy: 0.6752, Validation Accuracy: 0.6664, Loss: 0.5462\n",
      "Epoch   0 Batch  480/538 - Train Accuracy: 0.6711, Validation Accuracy: 0.6692, Loss: 0.5323\n",
      "Epoch   0 Batch  490/538 - Train Accuracy: 0.6538, Validation Accuracy: 0.6747, Loss: 0.5416\n",
      "Epoch   0 Batch  500/538 - Train Accuracy: 0.6880, Validation Accuracy: 0.6733, Loss: 0.4897\n",
      "Epoch   0 Batch  510/538 - Train Accuracy: 0.6908, Validation Accuracy: 0.6884, Loss: 0.5141\n",
      "Epoch   0 Batch  520/538 - Train Accuracy: 0.6744, Validation Accuracy: 0.6923, Loss: 0.5263\n",
      "Epoch   0 Batch  530/538 - Train Accuracy: 0.6857, Validation Accuracy: 0.6918, Loss: 0.5358\n",
      "Epoch   1 Batch   10/538 - Train Accuracy: 0.6758, Validation Accuracy: 0.6786, Loss: 0.5065\n",
      "Epoch   1 Batch   20/538 - Train Accuracy: 0.7029, Validation Accuracy: 0.6982, Loss: 0.4795\n",
      "Epoch   1 Batch   30/538 - Train Accuracy: 0.6904, Validation Accuracy: 0.6983, Loss: 0.4953\n",
      "Epoch   1 Batch   40/538 - Train Accuracy: 0.7195, Validation Accuracy: 0.7138, Loss: 0.4190\n",
      "Epoch   1 Batch   50/538 - Train Accuracy: 0.7254, Validation Accuracy: 0.7264, Loss: 0.4612\n",
      "Epoch   1 Batch   60/538 - Train Accuracy: 0.7229, Validation Accuracy: 0.7221, Loss: 0.4472\n",
      "Epoch   1 Batch   70/538 - Train Accuracy: 0.7308, Validation Accuracy: 0.7250, Loss: 0.4225\n",
      "Epoch   1 Batch   80/538 - Train Accuracy: 0.7234, Validation Accuracy: 0.7230, Loss: 0.4456\n",
      "Epoch   1 Batch   90/538 - Train Accuracy: 0.7321, Validation Accuracy: 0.7351, Loss: 0.4190\n",
      "Epoch   1 Batch  100/538 - Train Accuracy: 0.7314, Validation Accuracy: 0.7505, Loss: 0.3959\n",
      "Epoch   1 Batch  110/538 - Train Accuracy: 0.7559, Validation Accuracy: 0.7356, Loss: 0.4008\n",
      "Epoch   1 Batch  120/538 - Train Accuracy: 0.7605, Validation Accuracy: 0.7543, Loss: 0.3688\n",
      "Epoch   1 Batch  130/538 - Train Accuracy: 0.7712, Validation Accuracy: 0.7704, Loss: 0.3599\n",
      "Epoch   1 Batch  140/538 - Train Accuracy: 0.7451, Validation Accuracy: 0.7479, Loss: 0.3948\n",
      "Epoch   1 Batch  150/538 - Train Accuracy: 0.7613, Validation Accuracy: 0.7573, Loss: 0.3611\n",
      "Epoch   1 Batch  160/538 - Train Accuracy: 0.7552, Validation Accuracy: 0.7807, Loss: 0.3377\n",
      "Epoch   1 Batch  170/538 - Train Accuracy: 0.7576, Validation Accuracy: 0.7562, Loss: 0.3388\n",
      "Epoch   1 Batch  180/538 - Train Accuracy: 0.8071, Validation Accuracy: 0.7630, Loss: 0.3257\n",
      "Epoch   1 Batch  190/538 - Train Accuracy: 0.7818, Validation Accuracy: 0.7837, Loss: 0.3413\n",
      "Epoch   1 Batch  200/538 - Train Accuracy: 0.8020, Validation Accuracy: 0.7855, Loss: 0.2942\n",
      "Epoch   1 Batch  210/538 - Train Accuracy: 0.8023, Validation Accuracy: 0.8052, Loss: 0.2941\n",
      "Epoch   1 Batch  220/538 - Train Accuracy: 0.8127, Validation Accuracy: 0.7816, Loss: 0.2747\n",
      "Epoch   1 Batch  230/538 - Train Accuracy: 0.8184, Validation Accuracy: 0.8047, Loss: 0.2832\n",
      "Epoch   1 Batch  240/538 - Train Accuracy: 0.8232, Validation Accuracy: 0.8203, Loss: 0.2862\n",
      "Epoch   1 Batch  250/538 - Train Accuracy: 0.8598, Validation Accuracy: 0.8121, Loss: 0.2626\n",
      "Epoch   1 Batch  260/538 - Train Accuracy: 0.7889, Validation Accuracy: 0.8114, Loss: 0.2543\n",
      "Epoch   1 Batch  270/538 - Train Accuracy: 0.8355, Validation Accuracy: 0.8315, Loss: 0.2485\n",
      "Epoch   1 Batch  280/538 - Train Accuracy: 0.8493, Validation Accuracy: 0.8350, Loss: 0.2275\n",
      "Epoch   1 Batch  290/538 - Train Accuracy: 0.8520, Validation Accuracy: 0.8246, Loss: 0.2181\n",
      "Epoch   1 Batch  300/538 - Train Accuracy: 0.8387, Validation Accuracy: 0.8342, Loss: 0.2270\n",
      "Epoch   1 Batch  310/538 - Train Accuracy: 0.8627, Validation Accuracy: 0.8171, Loss: 0.2228\n",
      "Epoch   1 Batch  320/538 - Train Accuracy: 0.8447, Validation Accuracy: 0.8612, Loss: 0.2187\n",
      "Epoch   1 Batch  330/538 - Train Accuracy: 0.8823, Validation Accuracy: 0.8548, Loss: 0.1924\n",
      "Epoch   1 Batch  340/538 - Train Accuracy: 0.8551, Validation Accuracy: 0.8390, Loss: 0.1985\n",
      "Epoch   1 Batch  350/538 - Train Accuracy: 0.8661, Validation Accuracy: 0.8207, Loss: 0.2110\n",
      "Epoch   1 Batch  360/538 - Train Accuracy: 0.8605, Validation Accuracy: 0.8617, Loss: 0.2010\n"
     ]
    },
    {
     "name": "stdout",
     "output_type": "stream",
     "text": [
      "Epoch   1 Batch  370/538 - Train Accuracy: 0.8652, Validation Accuracy: 0.8505, Loss: 0.1947\n",
      "Epoch   1 Batch  380/538 - Train Accuracy: 0.8646, Validation Accuracy: 0.8752, Loss: 0.1717\n",
      "Epoch   1 Batch  390/538 - Train Accuracy: 0.8984, Validation Accuracy: 0.8686, Loss: 0.1631\n",
      "Epoch   1 Batch  400/538 - Train Accuracy: 0.8752, Validation Accuracy: 0.8633, Loss: 0.1699\n",
      "Epoch   1 Batch  410/538 - Train Accuracy: 0.8637, Validation Accuracy: 0.8455, Loss: 0.1789\n",
      "Epoch   1 Batch  420/538 - Train Accuracy: 0.8916, Validation Accuracy: 0.8734, Loss: 0.1620\n",
      "Epoch   1 Batch  430/538 - Train Accuracy: 0.8805, Validation Accuracy: 0.8638, Loss: 0.1623\n",
      "Epoch   1 Batch  440/538 - Train Accuracy: 0.8760, Validation Accuracy: 0.8746, Loss: 0.1811\n",
      "Epoch   1 Batch  450/538 - Train Accuracy: 0.8746, Validation Accuracy: 0.8755, Loss: 0.1608\n",
      "Epoch   1 Batch  460/538 - Train Accuracy: 0.8785, Validation Accuracy: 0.8725, Loss: 0.1523\n",
      "Epoch   1 Batch  470/538 - Train Accuracy: 0.8943, Validation Accuracy: 0.8601, Loss: 0.1383\n",
      "Epoch   1 Batch  480/538 - Train Accuracy: 0.8999, Validation Accuracy: 0.8926, Loss: 0.1291\n",
      "Epoch   1 Batch  490/538 - Train Accuracy: 0.8888, Validation Accuracy: 0.8594, Loss: 0.1263\n",
      "Epoch   1 Batch  500/538 - Train Accuracy: 0.9205, Validation Accuracy: 0.8814, Loss: 0.1128\n",
      "Epoch   1 Batch  510/538 - Train Accuracy: 0.9156, Validation Accuracy: 0.8919, Loss: 0.1276\n",
      "Epoch   1 Batch  520/538 - Train Accuracy: 0.8832, Validation Accuracy: 0.8777, Loss: 0.1378\n",
      "Epoch   1 Batch  530/538 - Train Accuracy: 0.8771, Validation Accuracy: 0.9000, Loss: 0.1297\n",
      "Epoch   2 Batch   10/538 - Train Accuracy: 0.8832, Validation Accuracy: 0.8929, Loss: 0.1241\n",
      "Epoch   2 Batch   20/538 - Train Accuracy: 0.9070, Validation Accuracy: 0.8979, Loss: 0.1159\n",
      "Epoch   2 Batch   30/538 - Train Accuracy: 0.8926, Validation Accuracy: 0.9006, Loss: 0.1217\n",
      "Epoch   2 Batch   40/538 - Train Accuracy: 0.9167, Validation Accuracy: 0.9009, Loss: 0.1003\n",
      "Epoch   2 Batch   50/538 - Train Accuracy: 0.9145, Validation Accuracy: 0.9070, Loss: 0.1022\n",
      "Epoch   2 Batch   60/538 - Train Accuracy: 0.9125, Validation Accuracy: 0.8908, Loss: 0.1056\n",
      "Epoch   2 Batch   70/538 - Train Accuracy: 0.8850, Validation Accuracy: 0.8960, Loss: 0.1042\n",
      "Epoch   2 Batch   80/538 - Train Accuracy: 0.8814, Validation Accuracy: 0.8931, Loss: 0.1076\n",
      "Epoch   2 Batch   90/538 - Train Accuracy: 0.9016, Validation Accuracy: 0.9050, Loss: 0.1085\n",
      "Epoch   2 Batch  100/538 - Train Accuracy: 0.9232, Validation Accuracy: 0.9029, Loss: 0.0892\n",
      "Epoch   2 Batch  110/538 - Train Accuracy: 0.9090, Validation Accuracy: 0.9082, Loss: 0.0985\n",
      "Epoch   2 Batch  120/538 - Train Accuracy: 0.9318, Validation Accuracy: 0.8899, Loss: 0.0880\n",
      "Epoch   2 Batch  130/538 - Train Accuracy: 0.9332, Validation Accuracy: 0.9041, Loss: 0.0812\n",
      "Epoch   2 Batch  140/538 - Train Accuracy: 0.8967, Validation Accuracy: 0.8991, Loss: 0.1132\n",
      "Epoch   2 Batch  150/538 - Train Accuracy: 0.9227, Validation Accuracy: 0.9086, Loss: 0.0867\n",
      "Epoch   2 Batch  160/538 - Train Accuracy: 0.9022, Validation Accuracy: 0.9107, Loss: 0.0836\n",
      "Epoch   2 Batch  170/538 - Train Accuracy: 0.9102, Validation Accuracy: 0.8892, Loss: 0.0908\n",
      "Epoch   2 Batch  180/538 - Train Accuracy: 0.9217, Validation Accuracy: 0.8917, Loss: 0.0900\n",
      "Epoch   2 Batch  190/538 - Train Accuracy: 0.9113, Validation Accuracy: 0.9082, Loss: 0.1000\n",
      "Epoch   2 Batch  200/538 - Train Accuracy: 0.9240, Validation Accuracy: 0.9059, Loss: 0.0727\n",
      "Epoch   2 Batch  210/538 - Train Accuracy: 0.8906, Validation Accuracy: 0.9073, Loss: 0.0884\n",
      "Epoch   2 Batch  220/538 - Train Accuracy: 0.9126, Validation Accuracy: 0.8926, Loss: 0.0869\n",
      "Epoch   2 Batch  230/538 - Train Accuracy: 0.9021, Validation Accuracy: 0.9087, Loss: 0.0863\n",
      "Epoch   2 Batch  240/538 - Train Accuracy: 0.9273, Validation Accuracy: 0.9261, Loss: 0.0843\n",
      "Epoch   2 Batch  250/538 - Train Accuracy: 0.9412, Validation Accuracy: 0.8993, Loss: 0.0723\n",
      "Epoch   2 Batch  260/538 - Train Accuracy: 0.8908, Validation Accuracy: 0.9107, Loss: 0.0887\n",
      "Epoch   2 Batch  270/538 - Train Accuracy: 0.9398, Validation Accuracy: 0.9240, Loss: 0.0666\n",
      "Epoch   2 Batch  280/538 - Train Accuracy: 0.9375, Validation Accuracy: 0.9139, Loss: 0.0688\n",
      "Epoch   2 Batch  290/538 - Train Accuracy: 0.9453, Validation Accuracy: 0.9148, Loss: 0.0670\n",
      "Epoch   2 Batch  300/538 - Train Accuracy: 0.9055, Validation Accuracy: 0.9187, Loss: 0.0763\n",
      "Epoch   2 Batch  310/538 - Train Accuracy: 0.9414, Validation Accuracy: 0.9196, Loss: 0.0820\n",
      "Epoch   2 Batch  320/538 - Train Accuracy: 0.9206, Validation Accuracy: 0.9276, Loss: 0.0745\n",
      "Epoch   2 Batch  330/538 - Train Accuracy: 0.9317, Validation Accuracy: 0.9199, Loss: 0.0653\n",
      "Epoch   2 Batch  340/538 - Train Accuracy: 0.9164, Validation Accuracy: 0.9233, Loss: 0.0750\n",
      "Epoch   2 Batch  350/538 - Train Accuracy: 0.9436, Validation Accuracy: 0.9226, Loss: 0.0763\n",
      "Epoch   2 Batch  360/538 - Train Accuracy: 0.9266, Validation Accuracy: 0.9196, Loss: 0.0749\n",
      "Epoch   2 Batch  370/538 - Train Accuracy: 0.9199, Validation Accuracy: 0.9208, Loss: 0.0722\n",
      "Epoch   2 Batch  380/538 - Train Accuracy: 0.9244, Validation Accuracy: 0.9281, Loss: 0.0624\n",
      "Epoch   2 Batch  390/538 - Train Accuracy: 0.9368, Validation Accuracy: 0.9187, Loss: 0.0575\n",
      "Epoch   2 Batch  400/538 - Train Accuracy: 0.9293, Validation Accuracy: 0.9281, Loss: 0.0669\n",
      "Epoch   2 Batch  410/538 - Train Accuracy: 0.9355, Validation Accuracy: 0.9206, Loss: 0.0691\n",
      "Epoch   2 Batch  420/538 - Train Accuracy: 0.9510, Validation Accuracy: 0.9183, Loss: 0.0606\n",
      "Epoch   2 Batch  430/538 - Train Accuracy: 0.9258, Validation Accuracy: 0.9107, Loss: 0.0670\n",
      "Epoch   2 Batch  440/538 - Train Accuracy: 0.9258, Validation Accuracy: 0.9343, Loss: 0.0692\n",
      "Epoch   2 Batch  450/538 - Train Accuracy: 0.9066, Validation Accuracy: 0.9256, Loss: 0.0734\n",
      "Epoch   2 Batch  460/538 - Train Accuracy: 0.9115, Validation Accuracy: 0.9185, Loss: 0.0740\n",
      "Epoch   2 Batch  470/538 - Train Accuracy: 0.9371, Validation Accuracy: 0.9167, Loss: 0.0588\n",
      "Epoch   2 Batch  480/538 - Train Accuracy: 0.9438, Validation Accuracy: 0.9336, Loss: 0.0559\n",
      "Epoch   2 Batch  490/538 - Train Accuracy: 0.9275, Validation Accuracy: 0.9222, Loss: 0.0615\n",
      "Epoch   2 Batch  500/538 - Train Accuracy: 0.9471, Validation Accuracy: 0.9284, Loss: 0.0476\n",
      "Epoch   2 Batch  510/538 - Train Accuracy: 0.9384, Validation Accuracy: 0.9418, Loss: 0.0595\n",
      "Epoch   2 Batch  520/538 - Train Accuracy: 0.9555, Validation Accuracy: 0.9201, Loss: 0.0587\n",
      "Epoch   2 Batch  530/538 - Train Accuracy: 0.9201, Validation Accuracy: 0.9435, Loss: 0.0662\n",
      "Epoch   3 Batch   10/538 - Train Accuracy: 0.9354, Validation Accuracy: 0.9345, Loss: 0.0603\n",
      "Epoch   3 Batch   20/538 - Train Accuracy: 0.9423, Validation Accuracy: 0.9426, Loss: 0.0605\n",
      "Epoch   3 Batch   30/538 - Train Accuracy: 0.9330, Validation Accuracy: 0.9363, Loss: 0.0603\n",
      "Epoch   3 Batch   40/538 - Train Accuracy: 0.9448, Validation Accuracy: 0.9423, Loss: 0.0483\n",
      "Epoch   3 Batch   50/538 - Train Accuracy: 0.9361, Validation Accuracy: 0.9309, Loss: 0.0521\n",
      "Epoch   3 Batch   60/538 - Train Accuracy: 0.9508, Validation Accuracy: 0.9284, Loss: 0.0547\n",
      "Epoch   3 Batch   70/538 - Train Accuracy: 0.9219, Validation Accuracy: 0.9190, Loss: 0.0543\n",
      "Epoch   3 Batch   80/538 - Train Accuracy: 0.9139, Validation Accuracy: 0.9309, Loss: 0.0587\n",
      "Epoch   3 Batch   90/538 - Train Accuracy: 0.9431, Validation Accuracy: 0.9316, Loss: 0.0600\n",
      "Epoch   3 Batch  100/538 - Train Accuracy: 0.9443, Validation Accuracy: 0.9373, Loss: 0.0466\n",
      "Epoch   3 Batch  110/538 - Train Accuracy: 0.9342, Validation Accuracy: 0.9366, Loss: 0.0560\n",
      "Epoch   3 Batch  120/538 - Train Accuracy: 0.9566, Validation Accuracy: 0.9357, Loss: 0.0451\n",
      "Epoch   3 Batch  130/538 - Train Accuracy: 0.9446, Validation Accuracy: 0.9379, Loss: 0.0491\n",
      "Epoch   3 Batch  140/538 - Train Accuracy: 0.9295, Validation Accuracy: 0.9442, Loss: 0.0663\n",
      "Epoch   3 Batch  150/538 - Train Accuracy: 0.9461, Validation Accuracy: 0.9338, Loss: 0.0479\n",
      "Epoch   3 Batch  160/538 - Train Accuracy: 0.9234, Validation Accuracy: 0.9428, Loss: 0.0454\n",
      "Epoch   3 Batch  170/538 - Train Accuracy: 0.9433, Validation Accuracy: 0.9354, Loss: 0.0551\n",
      "Epoch   3 Batch  180/538 - Train Accuracy: 0.9390, Validation Accuracy: 0.9226, Loss: 0.0506\n",
      "Epoch   3 Batch  190/538 - Train Accuracy: 0.9304, Validation Accuracy: 0.9173, Loss: 0.0617\n"
     ]
    },
    {
     "name": "stdout",
     "output_type": "stream",
     "text": [
      "Epoch   3 Batch  200/538 - Train Accuracy: 0.9500, Validation Accuracy: 0.9322, Loss: 0.0449\n",
      "Epoch   3 Batch  210/538 - Train Accuracy: 0.9243, Validation Accuracy: 0.9231, Loss: 0.0518\n",
      "Epoch   3 Batch  220/538 - Train Accuracy: 0.9209, Validation Accuracy: 0.9309, Loss: 0.0546\n",
      "Epoch   3 Batch  230/538 - Train Accuracy: 0.9336, Validation Accuracy: 0.9412, Loss: 0.0466\n",
      "Epoch   3 Batch  240/538 - Train Accuracy: 0.9477, Validation Accuracy: 0.9522, Loss: 0.0487\n",
      "Epoch   3 Batch  250/538 - Train Accuracy: 0.9437, Validation Accuracy: 0.9510, Loss: 0.0482\n",
      "Epoch   3 Batch  260/538 - Train Accuracy: 0.9211, Validation Accuracy: 0.9494, Loss: 0.0556\n",
      "Epoch   3 Batch  270/538 - Train Accuracy: 0.9477, Validation Accuracy: 0.9379, Loss: 0.0437\n",
      "Epoch   3 Batch  280/538 - Train Accuracy: 0.9606, Validation Accuracy: 0.9428, Loss: 0.0395\n",
      "Epoch   3 Batch  290/538 - Train Accuracy: 0.9723, Validation Accuracy: 0.9373, Loss: 0.0376\n",
      "Epoch   3 Batch  300/538 - Train Accuracy: 0.9356, Validation Accuracy: 0.9423, Loss: 0.0491\n",
      "Epoch   3 Batch  310/538 - Train Accuracy: 0.9564, Validation Accuracy: 0.9496, Loss: 0.0503\n",
      "Epoch   3 Batch  320/538 - Train Accuracy: 0.9414, Validation Accuracy: 0.9570, Loss: 0.0456\n",
      "Epoch   3 Batch  330/538 - Train Accuracy: 0.9598, Validation Accuracy: 0.9435, Loss: 0.0439\n",
      "Epoch   3 Batch  340/538 - Train Accuracy: 0.9396, Validation Accuracy: 0.9393, Loss: 0.0478\n",
      "Epoch   3 Batch  350/538 - Train Accuracy: 0.9583, Validation Accuracy: 0.9457, Loss: 0.0479\n",
      "Epoch   3 Batch  360/538 - Train Accuracy: 0.9479, Validation Accuracy: 0.9464, Loss: 0.0426\n",
      "Epoch   3 Batch  370/538 - Train Accuracy: 0.9498, Validation Accuracy: 0.9483, Loss: 0.0460\n",
      "Epoch   3 Batch  380/538 - Train Accuracy: 0.9473, Validation Accuracy: 0.9396, Loss: 0.0438\n",
      "Epoch   3 Batch  390/538 - Train Accuracy: 0.9503, Validation Accuracy: 0.9293, Loss: 0.0399\n",
      "Epoch   3 Batch  400/538 - Train Accuracy: 0.9544, Validation Accuracy: 0.9442, Loss: 0.0492\n",
      "Epoch   3 Batch  410/538 - Train Accuracy: 0.9693, Validation Accuracy: 0.9482, Loss: 0.0479\n",
      "Epoch   3 Batch  420/538 - Train Accuracy: 0.9469, Validation Accuracy: 0.9348, Loss: 0.0445\n",
      "Epoch   3 Batch  430/538 - Train Accuracy: 0.9434, Validation Accuracy: 0.9439, Loss: 0.0428\n",
      "Epoch   3 Batch  440/538 - Train Accuracy: 0.9572, Validation Accuracy: 0.9400, Loss: 0.0472\n",
      "Epoch   3 Batch  450/538 - Train Accuracy: 0.9338, Validation Accuracy: 0.9533, Loss: 0.0524\n",
      "Epoch   3 Batch  460/538 - Train Accuracy: 0.9369, Validation Accuracy: 0.9478, Loss: 0.0423\n",
      "Epoch   3 Batch  470/538 - Train Accuracy: 0.9483, Validation Accuracy: 0.9375, Loss: 0.0445\n",
      "Epoch   3 Batch  480/538 - Train Accuracy: 0.9533, Validation Accuracy: 0.9361, Loss: 0.0405\n",
      "Epoch   3 Batch  490/538 - Train Accuracy: 0.9526, Validation Accuracy: 0.9425, Loss: 0.0409\n",
      "Epoch   3 Batch  500/538 - Train Accuracy: 0.9682, Validation Accuracy: 0.9512, Loss: 0.0320\n",
      "Epoch   3 Batch  510/538 - Train Accuracy: 0.9535, Validation Accuracy: 0.9556, Loss: 0.0377\n",
      "Epoch   3 Batch  520/538 - Train Accuracy: 0.9504, Validation Accuracy: 0.9329, Loss: 0.0371\n",
      "Epoch   3 Batch  530/538 - Train Accuracy: 0.9430, Validation Accuracy: 0.9462, Loss: 0.0495\n",
      "Model Trained and Saved\n"
     ]
    }
   ],
   "source": [
    "\"\"\"\n",
    "DON'T MODIFY ANYTHING IN THIS CELL\n",
    "\"\"\"\n",
    "def get_accuracy(target, logits):\n",
    "    \"\"\"\n",
    "    Calculate accuracy\n",
    "    \"\"\"\n",
    "    max_seq = max(target.shape[1], logits.shape[1])\n",
    "    if max_seq - target.shape[1]:\n",
    "        target = np.pad(\n",
    "            target,\n",
    "            [(0,0),(0,max_seq - target.shape[1])],\n",
    "            'constant')\n",
    "    if max_seq - logits.shape[1]:\n",
    "        logits = np.pad(\n",
    "            logits,\n",
    "            [(0,0),(0,max_seq - logits.shape[1])],\n",
    "            'constant')\n",
    "\n",
    "    return np.mean(np.equal(target, logits))\n",
    "\n",
    "# Split data to training and validation sets\n",
    "train_source = source_int_text[batch_size:]\n",
    "train_target = target_int_text[batch_size:]\n",
    "valid_source = source_int_text[:batch_size]\n",
    "valid_target = target_int_text[:batch_size]\n",
    "(valid_sources_batch, valid_targets_batch, valid_sources_lengths, valid_targets_lengths ) = next(get_batches(valid_source,\n",
    "                                                                                                             valid_target,\n",
    "                                                                                                             batch_size,\n",
    "                                                                                                             source_vocab_to_int['<PAD>'],\n",
    "                                                                                                             target_vocab_to_int['<PAD>']))                                                                                                  \n",
    "with tf.Session(graph=train_graph) as sess:\n",
    "    sess.run(tf.global_variables_initializer())\n",
    "\n",
    "    for epoch_i in range(epochs):\n",
    "        for batch_i, (source_batch, target_batch, sources_lengths, targets_lengths) in enumerate(\n",
    "                get_batches(train_source, train_target, batch_size,\n",
    "                            source_vocab_to_int['<PAD>'],\n",
    "                            target_vocab_to_int['<PAD>'])):\n",
    "\n",
    "            _, loss = sess.run(\n",
    "                [train_op, cost],\n",
    "                {input_data: source_batch,\n",
    "                 targets: target_batch,\n",
    "                 lr: learning_rate,\n",
    "                 target_sequence_length: targets_lengths,\n",
    "                 source_sequence_length: sources_lengths,\n",
    "                 keep_prob: keep_probability})\n",
    "\n",
    "\n",
    "            if batch_i % display_step == 0 and batch_i > 0:\n",
    "\n",
    "\n",
    "                batch_train_logits = sess.run(\n",
    "                    inference_logits,\n",
    "                    {input_data: source_batch,\n",
    "                     source_sequence_length: sources_lengths,\n",
    "                     target_sequence_length: targets_lengths,\n",
    "                     keep_prob: 1.0})\n",
    "\n",
    "\n",
    "                batch_valid_logits = sess.run(\n",
    "                    inference_logits,\n",
    "                    {input_data: valid_sources_batch,\n",
    "                     source_sequence_length: valid_sources_lengths,\n",
    "                     target_sequence_length: valid_targets_lengths,\n",
    "                     keep_prob: 1.0})\n",
    "\n",
    "                train_acc = get_accuracy(target_batch, batch_train_logits)\n",
    "\n",
    "                valid_acc = get_accuracy(valid_targets_batch, batch_valid_logits)\n",
    "\n",
    "                print('Epoch {:>3} Batch {:>4}/{} - Train Accuracy: {:>6.4f}, Validation Accuracy: {:>6.4f}, Loss: {:>6.4f}'\n",
    "                      .format(epoch_i, batch_i, len(source_int_text) // batch_size, train_acc, valid_acc, loss))\n",
    "\n",
    "    # Save Model\n",
    "    saver = tf.train.Saver()\n",
    "    saver.save(sess, save_path)\n",
    "    print('Model Trained and Saved')"
   ]
  },
  {
   "cell_type": "markdown",
   "metadata": {},
   "source": [
    "### Save Parameters\n",
    "Save the `batch_size` and `save_path` parameters for inference."
   ]
  },
  {
   "cell_type": "code",
   "execution_count": 28,
   "metadata": {},
   "outputs": [],
   "source": [
    "\"\"\"\n",
    "DON'T MODIFY ANYTHING IN THIS CELL\n",
    "\"\"\"\n",
    "# Save parameters for checkpoint\n",
    "helper.save_params(save_path)"
   ]
  },
  {
   "cell_type": "markdown",
   "metadata": {},
   "source": [
    "# Checkpoint"
   ]
  },
  {
   "cell_type": "code",
   "execution_count": 29,
   "metadata": {},
   "outputs": [],
   "source": [
    "\"\"\"\n",
    "DON'T MODIFY ANYTHING IN THIS CELL\n",
    "\"\"\"\n",
    "import tensorflow as tf\n",
    "import numpy as np\n",
    "import helper\n",
    "import problem_unittests as tests\n",
    "\n",
    "_, (source_vocab_to_int, target_vocab_to_int), (source_int_to_vocab, target_int_to_vocab) = helper.load_preprocess()\n",
    "load_path = helper.load_params()"
   ]
  },
  {
   "cell_type": "markdown",
   "metadata": {},
   "source": [
    "## Sentence to Sequence\n",
    "To feed a sentence into the model for translation, you first need to preprocess it.  Implement the function `sentence_to_seq()` to preprocess new sentences.\n",
    "\n",
    "- Convert the sentence to lowercase\n",
    "- Convert words into ids using `vocab_to_int`\n",
    " - Convert words not in the vocabulary, to the `<UNK>` word id."
   ]
  },
  {
   "cell_type": "code",
   "execution_count": 30,
   "metadata": {},
   "outputs": [
    {
     "name": "stdout",
     "output_type": "stream",
     "text": [
      "Tests Passed\n"
     ]
    }
   ],
   "source": [
    "def sentence_to_seq(sentence, vocab_to_int):\n",
    "    \"\"\"\n",
    "    Convert a sentence to a sequence of ids\n",
    "    :param sentence: String\n",
    "    :param vocab_to_int: Dictionary to go from the words to an id\n",
    "    :return: List of word ids\n",
    "    \"\"\"\n",
    "    # TODO: Implement Function\n",
    "    #sequence_length = len(vocab_to_int)\n",
    "\n",
    "    return [vocab_to_int.get(word, vocab_to_int['<UNK>']) for word in sentence.lower().split()]\n",
    "\n",
    "\n",
    "\"\"\"\n",
    "DON'T MODIFY ANYTHING IN THIS CELL THAT IS BELOW THIS LINE\n",
    "\"\"\"\n",
    "tests.test_sentence_to_seq(sentence_to_seq)"
   ]
  },
  {
   "cell_type": "markdown",
   "metadata": {},
   "source": [
    "## Translate\n",
    "This will translate `translate_sentence` from English to French."
   ]
  },
  {
   "cell_type": "code",
   "execution_count": 31,
   "metadata": {},
   "outputs": [
    {
     "name": "stdout",
     "output_type": "stream",
     "text": [
      "INFO:tensorflow:Restoring parameters from checkpoints/dev\n",
      "Input\n",
      "  Word Ids:      [48, 196, 166, 220, 114, 220, 128, 112, 142]\n",
      "  English Words: ['you', 'like', 'grapes', ',', 'peaches', ',', 'and', 'strawberries', '.']\n",
      "\n",
      "Prediction\n",
      "  Word Ids:      [10, 60, 207, 355, 265, 76, 171, 287, 321, 66, 1]\n",
      "  French Words: france est facile , et il gèle en décembre . <EOS>\n"
     ]
    }
   ],
   "source": [
    "translate_sentence = 'you like grapes , peaches , and strawberries .'\n",
    "\n",
    "\n",
    "\"\"\"\n",
    "DON'T MODIFY ANYTHING IN THIS CELL\n",
    "\"\"\"\n",
    "translate_sentence = sentence_to_seq(translate_sentence, source_vocab_to_int)\n",
    "\n",
    "loaded_graph = tf.Graph()\n",
    "with tf.Session(graph=loaded_graph) as sess:\n",
    "    # Load saved model\n",
    "    loader = tf.train.import_meta_graph(load_path + '.meta')\n",
    "    loader.restore(sess, load_path)\n",
    "\n",
    "    input_data = loaded_graph.get_tensor_by_name('input:0')\n",
    "    logits = loaded_graph.get_tensor_by_name('predictions:0')\n",
    "    target_sequence_length = loaded_graph.get_tensor_by_name('target_sequence_length:0')\n",
    "    source_sequence_length = loaded_graph.get_tensor_by_name('source_sequence_length:0')\n",
    "    keep_prob = loaded_graph.get_tensor_by_name('keep_prob:0')\n",
    "\n",
    "    translate_logits = sess.run(logits, {input_data: [translate_sentence]*batch_size,\n",
    "                                         target_sequence_length: [len(translate_sentence)*2]*batch_size,\n",
    "                                         source_sequence_length: [len(translate_sentence)]*batch_size,\n",
    "                                         keep_prob: 1.0})[0]\n",
    "\n",
    "print('Input')\n",
    "print('  Word Ids:      {}'.format([i for i in translate_sentence]))\n",
    "print('  English Words: {}'.format([source_int_to_vocab[i] for i in translate_sentence]))\n",
    "\n",
    "print('\\nPrediction')\n",
    "print('  Word Ids:      {}'.format([i for i in translate_logits]))\n",
    "print('  French Words: {}'.format(\" \".join([target_int_to_vocab[i] for i in translate_logits])))\n"
   ]
  },
  {
   "cell_type": "markdown",
   "metadata": {},
   "source": [
    "## Imperfect Translation\n",
    "You might notice that some sentences translate better than others.  Since the dataset you're using only has a vocabulary of 227 English words of the thousands that you use, you're only going to see good results using these words.  For this project, you don't need a perfect translation. However, if you want to create a better translation model, you'll need better data.\n",
    "\n",
    "You can train on the [WMT10 French-English corpus](http://www.statmt.org/wmt10/training-giga-fren.tar).  This dataset has more vocabulary and richer in topics discussed.  However, this will take you days to train, so make sure you've a GPU and the neural network is performing well on dataset we provided.  Just make sure you play with the WMT10 corpus after you've submitted this project.\n",
    "## Submitting This Project\n",
    "When submitting this project, make sure to run all the cells before saving the notebook. Save the notebook file as \"dlnd_language_translation.ipynb\" and save it as a HTML file under \"File\" -> \"Download as\". Include the \"helper.py\" and \"problem_unittests.py\" files in your submission."
   ]
  }
 ],
 "metadata": {
  "anaconda-cloud": {},
  "kernelspec": {
   "display_name": "Python 3",
   "language": "python",
   "name": "python3"
  },
  "language_info": {
   "codemirror_mode": {
    "name": "ipython",
    "version": 3
   },
   "file_extension": ".py",
   "mimetype": "text/x-python",
   "name": "python",
   "nbconvert_exporter": "python",
   "pygments_lexer": "ipython3",
   "version": "3.6.3"
  }
 },
 "nbformat": 4,
 "nbformat_minor": 2
}
